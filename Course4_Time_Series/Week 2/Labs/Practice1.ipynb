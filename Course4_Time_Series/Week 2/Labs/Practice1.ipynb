{
  "nbformat": 4,
  "nbformat_minor": 0,
  "metadata": {
    "colab": {
      "provenance": []
    },
    "kernelspec": {
      "name": "python3",
      "display_name": "Python 3"
    },
    "language_info": {
      "name": "python"
    }
  },
  "cells": [
    {
      "cell_type": "markdown",
      "source": [
        "#Imports"
      ],
      "metadata": {
        "id": "aPP4mRyu3HLo"
      }
    },
    {
      "cell_type": "code",
      "execution_count": 1,
      "metadata": {
        "id": "AJvDFeS63Exh"
      },
      "outputs": [],
      "source": [
        "import tensorflow as tf"
      ]
    },
    {
      "cell_type": "markdown",
      "source": [
        "#Create a Simple Dataset"
      ],
      "metadata": {
        "id": "QVOBPJO73XKf"
      }
    },
    {
      "cell_type": "code",
      "source": [
        "#Generate a tf dataset with 10 elements (0-9)\n",
        "dataset = tf.data.Dataset.range(10)\n",
        "\n",
        "#Preview the result\n",
        "for val in dataset:\n",
        "  print(val.numpy())"
      ],
      "metadata": {
        "colab": {
          "base_uri": "https://localhost:8080/"
        },
        "id": "1pFuCUig3Yu_",
        "outputId": "078d6683-13fd-43b0-9cea-26a0c9475570"
      },
      "execution_count": 2,
      "outputs": [
        {
          "output_type": "stream",
          "name": "stdout",
          "text": [
            "0\n",
            "1\n",
            "2\n",
            "3\n",
            "4\n",
            "5\n",
            "6\n",
            "7\n",
            "8\n",
            "9\n"
          ]
        }
      ]
    },
    {
      "cell_type": "markdown",
      "source": [
        "#Windowing the data"
      ],
      "metadata": {
        "id": "trg9cm5N3XEK"
      }
    },
    {
      "cell_type": "code",
      "source": [
        "#Generate a tf dataset with 10 elements (0-9)\n",
        "dataset = tf.data.Dataset.range(10)\n",
        "\n",
        "#window the data\n",
        "dataset = dataset.window(size = 5, shift = 1)\n",
        "\n",
        "#convert to numpy arrays\n",
        "for window_dataset in dataset:\n",
        "  print([item.numpy() for item in window_dataset])"
      ],
      "metadata": {
        "colab": {
          "base_uri": "https://localhost:8080/"
        },
        "id": "1Bz_lxA93k8E",
        "outputId": "56aa96d4-9391-4f54-a10a-462615274bb6"
      },
      "execution_count": 4,
      "outputs": [
        {
          "output_type": "stream",
          "name": "stdout",
          "text": [
            "[0, 1, 2, 3, 4]\n",
            "[1, 2, 3, 4, 5]\n",
            "[2, 3, 4, 5, 6]\n",
            "[3, 4, 5, 6, 7]\n",
            "[4, 5, 6, 7, 8]\n",
            "[5, 6, 7, 8, 9]\n",
            "[6, 7, 8, 9]\n",
            "[7, 8, 9]\n",
            "[8, 9]\n",
            "[9]\n"
          ]
        }
      ]
    },
    {
      "cell_type": "markdown",
      "source": [
        "We can use the `drop_remainder` to only keep ones with 5 elements."
      ],
      "metadata": {
        "id": "y8jscEKh3-Pd"
      }
    },
    {
      "cell_type": "code",
      "source": [
        "#Generate a tf dataset with 10 elements (0-9)\n",
        "dataset = tf.data.Dataset.range(10)\n",
        "\n",
        "#window the data\n",
        "dataset = dataset.window(size = 5, shift = 1, drop_remainder=True)\n",
        "\n",
        "#convert to numpy arrays\n",
        "for window_dataset in dataset:\n",
        "  print([item.numpy() for item in window_dataset])"
      ],
      "metadata": {
        "colab": {
          "base_uri": "https://localhost:8080/"
        },
        "id": "LBQgffYS4B4V",
        "outputId": "120193a1-299f-4e9a-a8aa-9100938ed91e"
      },
      "execution_count": 5,
      "outputs": [
        {
          "output_type": "stream",
          "name": "stdout",
          "text": [
            "[0, 1, 2, 3, 4]\n",
            "[1, 2, 3, 4, 5]\n",
            "[2, 3, 4, 5, 6]\n",
            "[3, 4, 5, 6, 7]\n",
            "[4, 5, 6, 7, 8]\n",
            "[5, 6, 7, 8, 9]\n"
          ]
        }
      ]
    },
    {
      "cell_type": "markdown",
      "source": [
        "#Flatten the windows"
      ],
      "metadata": {
        "id": "3vdlxakG4FzD"
      }
    },
    {
      "cell_type": "markdown",
      "source": [
        "We convert windows from `dataset` structure to tensors using the flat_map() method, which will be applied to each window and the results will be flattened into a single dataset."
      ],
      "metadata": {
        "id": "lPQsV4gY4Hl8"
      }
    },
    {
      "cell_type": "code",
      "source": [
        "dataset = tf.data.Dataset.range(10)\n",
        "dataset = dataset.window(5, shift=1, drop_remainder=True)\n",
        "\n",
        "# Flatten the windows by putting its elements in 5 batches\n",
        "dataset = dataset.flat_map(lambda window: window.batch(5))\n",
        "\n",
        "#print results\n",
        "for window in dataset:\n",
        "  print(window.numpy())"
      ],
      "metadata": {
        "colab": {
          "base_uri": "https://localhost:8080/"
        },
        "id": "UZAxYZed4G4C",
        "outputId": "09d1055c-1631-471d-ad96-accc4572b104"
      },
      "execution_count": 7,
      "outputs": [
        {
          "output_type": "stream",
          "name": "stdout",
          "text": [
            "[0 1 2 3 4]\n",
            "[1 2 3 4 5]\n",
            "[2 3 4 5 6]\n",
            "[3 4 5 6 7]\n",
            "[4 5 6 7 8]\n",
            "[5 6 7 8 9]\n"
          ]
        }
      ]
    },
    {
      "cell_type": "markdown",
      "source": [
        "#Group into features and labels"
      ],
      "metadata": {
        "id": "_NdS8KHH4vsv"
      }
    },
    {
      "cell_type": "code",
      "source": [
        "dataset = tf.data.Dataset.range(10) #generate data\n",
        "dataset = dataset.window(5, shift=1, drop_remainder=True)\n",
        "dataset = dataset.flat_map(lambda window: window.batch(5)) #flatten\n",
        "\n",
        "#create tuples with features (first 4 elements) and labels(last element)\n",
        "dataset = dataset.map(lambda window: (window[:-1], window[-1]))\n",
        "\n",
        "#print\n",
        "for x,y in dataset:\n",
        "  print(\"x = \", x.numpy())\n",
        "  print(\"y = \", y.numpy())\n",
        "  print()"
      ],
      "metadata": {
        "colab": {
          "base_uri": "https://localhost:8080/"
        },
        "id": "RkTIjix04wx-",
        "outputId": "0a9c1af9-c0ec-4656-cda7-bbe4ebf27e5f"
      },
      "execution_count": 8,
      "outputs": [
        {
          "output_type": "stream",
          "name": "stdout",
          "text": [
            "x =  [0 1 2 3]\n",
            "y =  4\n",
            "\n",
            "x =  [1 2 3 4]\n",
            "y =  5\n",
            "\n",
            "x =  [2 3 4 5]\n",
            "y =  6\n",
            "\n",
            "x =  [3 4 5 6]\n",
            "y =  7\n",
            "\n",
            "x =  [4 5 6 7]\n",
            "y =  8\n",
            "\n",
            "x =  [5 6 7 8]\n",
            "y =  9\n",
            "\n"
          ]
        }
      ]
    },
    {
      "cell_type": "markdown",
      "source": [
        "#Shuffle data"
      ],
      "metadata": {
        "id": "wZaw9xK_5IWx"
      }
    },
    {
      "cell_type": "code",
      "source": [
        "dataset = tf.data.Dataset.range(10) #generate data\n",
        "dataset = dataset.window(5, shift=1, drop_remainder=True) #window data\n",
        "dataset = dataset.flat_map(lambda window: window.batch(5))#flatten\n",
        "dataset = dataset.map(lambda window: (window[:-1], window[-1])) #features and labels\n",
        "\n",
        "#shuffle\n",
        "dataset = dataset.shuffle(buffer_size=10)\n",
        "\n",
        "#print\n",
        "for x,y in dataset:\n",
        "  print(\"x = \", x.numpy())\n",
        "  print(\"y = \", y.numpy())\n",
        "  print()\n"
      ],
      "metadata": {
        "colab": {
          "base_uri": "https://localhost:8080/"
        },
        "id": "rNmbJZ9m5I-x",
        "outputId": "4707bf0b-722b-4116-a042-2ed556efc543"
      },
      "execution_count": 10,
      "outputs": [
        {
          "output_type": "stream",
          "name": "stdout",
          "text": [
            "x =  [0 1 2 3]\n",
            "y =  4\n",
            "\n",
            "x =  [2 3 4 5]\n",
            "y =  6\n",
            "\n",
            "x =  [5 6 7 8]\n",
            "y =  9\n",
            "\n",
            "x =  [3 4 5 6]\n",
            "y =  7\n",
            "\n",
            "x =  [4 5 6 7]\n",
            "y =  8\n",
            "\n",
            "x =  [1 2 3 4]\n",
            "y =  5\n",
            "\n"
          ]
        }
      ]
    },
    {
      "cell_type": "markdown",
      "source": [
        "#Create batches for training"
      ],
      "metadata": {
        "id": "Ae0pEwey5qwt"
      }
    },
    {
      "cell_type": "markdown",
      "source": [
        "Lastly, you will want to group your windows into batches. You can do that with the batch() method as shown below.\n",
        "- Simply specify the batch size and it will return a **batched dataset with that number of windows**.\n",
        "- As a rule of thumb, it is also good to specify a prefetch() step. This optimizes the execution time when the model is already training. By specifying a prefetch buffer_size of 1 as shown below, Tensorflow will prepare the next one batch in advance (i.e. putting it in a buffer) while the current batch is being consumed by the model. You can read more about it here."
      ],
      "metadata": {
        "id": "yDcYV3mr5xAk"
      }
    },
    {
      "cell_type": "code",
      "source": [
        "dataset = tf.data.Dataset.range(10) #generate data\n",
        "dataset = dataset.window(5, shift=1, drop_remainder=True) #window the data\n",
        "dataset = dataset.flat_map(lambda window: window.batch(5)) #flatten windows\n",
        "dataset = dataset.map(lambda window: (window[:-1], window[-1])) #gets features+labels\n",
        "dataset = dataset.shuffle(buffer_size=10) #shuffles\n",
        "\n",
        "#create batches of windows\n",
        "dataset = dataset.batch(2).prefetch(1)\n",
        "\n",
        "#print\n",
        "for x,y in dataset:\n",
        "  print(\"x = \", x.numpy())\n",
        "  print(\"y = \", y.numpy())\n",
        "  print()\n",
        "\n"
      ],
      "metadata": {
        "colab": {
          "base_uri": "https://localhost:8080/"
        },
        "id": "uRETXS1F5sbB",
        "outputId": "a50a7dea-5660-41d5-c077-b44744587e78"
      },
      "execution_count": 11,
      "outputs": [
        {
          "output_type": "stream",
          "name": "stdout",
          "text": [
            "x =  [[2 3 4 5]\n",
            " [3 4 5 6]]\n",
            "y =  [6 7]\n",
            "\n",
            "x =  [[4 5 6 7]\n",
            " [1 2 3 4]]\n",
            "y =  [8 5]\n",
            "\n",
            "x =  [[5 6 7 8]\n",
            " [0 1 2 3]]\n",
            "y =  [9 4]\n",
            "\n"
          ]
        }
      ]
    }
  ]
}