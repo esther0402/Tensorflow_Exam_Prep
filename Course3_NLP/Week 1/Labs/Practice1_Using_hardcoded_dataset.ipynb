{
  "nbformat": 4,
  "nbformat_minor": 0,
  "metadata": {
    "colab": {
      "provenance": []
    },
    "kernelspec": {
      "name": "python3",
      "display_name": "Python 3"
    },
    "language_info": {
      "name": "python"
    }
  },
  "cells": [
    {
      "cell_type": "code",
      "execution_count": 1,
      "metadata": {
        "id": "kXpTa3TClxkk"
      },
      "outputs": [],
      "source": [
        "from tensorflow.keras.preprocessing.text import Tokenizer\n",
        "from tensorflow.keras.preprocessing.sequence import pad_sequences"
      ]
    },
    {
      "cell_type": "code",
      "source": [
        "sentences = [\n",
        "    'I love my dog',\n",
        "    'i love my cat',\n",
        "    'You love my dog',\n",
        "    'Do you think my dog is amazing?!'\n",
        "]\n",
        "\n",
        "#Initialize the tokenizer\n",
        "tokenizer = Tokenizer(num_words = 100, oov_token = \"<OOV>\")\n",
        "\n",
        "#Tokenize the sentences\n",
        "tokenizer.fit_on_texts(sentences)\n",
        "\n",
        "#get the word_index\n",
        "word_index = tokenizer.word_index\n",
        "\n",
        "#generate list of token sequences\n",
        "sequences = tokenizer.texts_to_sequences(sentences)\n",
        "\n",
        "#padding\n",
        "padded = pad_sequences(sequences, padding = 'post', truncating = 'post', maxlen = 4)"
      ],
      "metadata": {
        "id": "abNCu0i6nSED"
      },
      "execution_count": 16,
      "outputs": []
    },
    {
      "cell_type": "code",
      "source": [
        "print(\"\\nWord index: \", word_index)\n",
        "print(\"\\nSequences: \", sequences)\n",
        "print(\"\\nPadded sequences: \\n\", padded)"
      ],
      "metadata": {
        "colab": {
          "base_uri": "https://localhost:8080/"
        },
        "id": "q3swfHgUn6M_",
        "outputId": "ca44a670-7385-4885-c469-a4f015adaa0f"
      },
      "execution_count": 17,
      "outputs": [
        {
          "output_type": "stream",
          "name": "stdout",
          "text": [
            "\n",
            "Word index:  {'<OOV>': 1, 'my': 2, 'love': 3, 'dog': 4, 'i': 5, 'you': 6, 'cat': 7, 'do': 8, 'think': 9, 'is': 10, 'amazing': 11}\n",
            "\n",
            "Sequences:  [[5, 3, 2, 4], [5, 3, 2, 7], [6, 3, 2, 4], [8, 6, 9, 2, 4, 10, 11]]\n",
            "\n",
            "Padded sequences: \n",
            " [[5 3 2 4]\n",
            " [5 3 2 7]\n",
            " [6 3 2 4]\n",
            " [8 6 9 2]]\n"
          ]
        }
      ]
    },
    {
      "cell_type": "markdown",
      "source": [
        "Testing with words that the tokenizer wasn't fit to"
      ],
      "metadata": {
        "id": "yI4K7g28omiF"
      }
    },
    {
      "cell_type": "code",
      "source": [
        "test_sentences = [\n",
        "    'i really love my dog',\n",
        "    'my dog loves my manatee'\n",
        "]\n",
        "\n",
        "#generate sequences\n",
        "test_seq = tokenizer.texts_to_sequences(test_sentences)\n",
        "\n",
        "#padded test sequences\n",
        "padded = pad_sequences(test_seq)"
      ],
      "metadata": {
        "id": "Yg8UsndhoqWm"
      },
      "execution_count": 18,
      "outputs": []
    },
    {
      "cell_type": "code",
      "source": [
        "print(\"\\nWord index: \", word_index)\n",
        "print(\"\\nSequences: \", test_seq)\n",
        "print(\"\\nPadded sequences: \\n\", padded)"
      ],
      "metadata": {
        "colab": {
          "base_uri": "https://localhost:8080/"
        },
        "id": "sBfjGTO7o4G3",
        "outputId": "9ceba128-c037-498c-9a1b-20ab1e1e08f1"
      },
      "execution_count": 19,
      "outputs": [
        {
          "output_type": "stream",
          "name": "stdout",
          "text": [
            "\n",
            "Word index:  {'<OOV>': 1, 'my': 2, 'love': 3, 'dog': 4, 'i': 5, 'you': 6, 'cat': 7, 'do': 8, 'think': 9, 'is': 10, 'amazing': 11}\n",
            "\n",
            "Sequences:  [[5, 1, 3, 2, 4], [2, 4, 1, 2, 1]]\n",
            "\n",
            "Padded sequences: \n",
            " [[5 1 3 2 4]\n",
            " [2 4 1 2 1]]\n"
          ]
        }
      ]
    }
  ]
}