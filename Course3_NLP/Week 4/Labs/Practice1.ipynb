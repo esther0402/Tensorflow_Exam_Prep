{
  "nbformat": 4,
  "nbformat_minor": 0,
  "metadata": {
    "colab": {
      "provenance": []
    },
    "kernelspec": {
      "name": "python3",
      "display_name": "Python 3"
    },
    "language_info": {
      "name": "python"
    }
  },
  "cells": [
    {
      "cell_type": "markdown",
      "source": [
        "#Import libraries"
      ],
      "metadata": {
        "id": "0ibvHZBgIEJ3"
      }
    },
    {
      "cell_type": "code",
      "execution_count": null,
      "metadata": {
        "id": "eyjxc_O4Hy_N"
      },
      "outputs": [],
      "source": [
        "import tensorflow as tf\n",
        "import numpy as np\n",
        "from tensorflow.keras.layers import Embedding, LSTM, Dense, Bidirectional\n",
        "from tensorflow.keras.models import Sequential\n",
        "from tensorflow.keras.preprocessing.text import Tokenizer\n",
        "from tensorflow.keras.preprocessing.sequence import pad_sequences"
      ]
    },
    {
      "cell_type": "markdown",
      "source": [
        "#Building the Word Vocabulary"
      ],
      "metadata": {
        "id": "cbBoIcW6IH6-"
      }
    },
    {
      "cell_type": "code",
      "source": [
        "# Define the lyrics of the song\n",
        "data=\"In the town of Athy one Jeremy Lanigan \\n Battered away til he hadnt a pound. \\nHis father died and made him a man again \\n Left him a farm and ten acres of ground. \\nHe gave a grand party for friends and relations \\nWho didnt forget him when come to the wall, \\nAnd if youll but listen Ill make your eyes glisten \\nOf the rows and the ructions of Lanigans Ball. \\nMyself to be sure got free invitation, \\nFor all the nice girls and boys I might ask, \\nAnd just in a minute both friends and relations \\nWere dancing round merry as bees round a cask. \\nJudy ODaly, that nice little milliner, \\nShe tipped me a wink for to give her a call, \\nAnd I soon arrived with Peggy McGilligan \\nJust in time for Lanigans Ball. \\nThere were lashings of punch and wine for the ladies, \\nPotatoes and cakes; there was bacon and tea, \\nThere were the Nolans, Dolans, OGradys \\nCourting the girls and dancing away. \\nSongs they went round as plenty as water, \\nThe harp that once sounded in Taras old hall,\\nSweet Nelly Gray and The Rat Catchers Daughter,\\nAll singing together at Lanigans Ball. \\nThey were doing all kinds of nonsensical polkas \\nAll round the room in a whirligig. \\nJulia and I, we banished their nonsense \\nAnd tipped them the twist of a reel and a jig. \\nAch mavrone, how the girls got all mad at me \\nDanced til youd think the ceiling would fall. \\nFor I spent three weeks at Brooks Academy \\nLearning new steps for Lanigans Ball. \\nThree long weeks I spent up in Dublin, \\nThree long weeks to learn nothing at all,\\n Three long weeks I spent up in Dublin, \\nLearning new steps for Lanigans Ball. \\nShe stepped out and I stepped in again, \\nI stepped out and she stepped in again, \\nShe stepped out and I stepped in again, \\nLearning new steps for Lanigans Ball. \\nBoys were all merry and the girls they were hearty \\nAnd danced all around in couples and groups, \\nTil an accident happened, young Terrance McCarthy \\nPut his right leg through miss Finnertys hoops. \\nPoor creature fainted and cried Meelia murther, \\nCalled for her brothers and gathered them all. \\nCarmody swore that hed go no further \\nTil he had satisfaction at Lanigans Ball. \\nIn the midst of the row miss Kerrigan fainted, \\nHer cheeks at the same time as red as a rose. \\nSome of the lads declared she was painted, \\nShe took a small drop too much, I suppose. \\nHer sweetheart, Ned Morgan, so powerful and able, \\nWhen he saw his fair colleen stretched out by the wall, \\nTore the left leg from under the table \\nAnd smashed all the Chaneys at Lanigans Ball. \\nBoys, oh boys, twas then there were runctions. \\nMyself got a lick from big Phelim McHugh. \\nI soon replied to his introduction \\nAnd kicked up a terrible hullabaloo. \\nOld Casey, the piper, was near being strangled. \\nThey squeezed up his pipes, bellows, chanters and all. \\nThe girls, in their ribbons, they got all entangled \\nAnd that put an end to Lanigans Ball.\"\n",
        "\n",
        "#Split the long strings per line and put it in list\n",
        "corpus = data.lower().split(\"\\n\")"
      ],
      "metadata": {
        "id": "hxTPz8Z1IJ6f"
      },
      "execution_count": null,
      "outputs": []
    },
    {
      "cell_type": "code",
      "source": [
        "#Initialize tokenizer\n",
        "tokenizer = Tokenizer()\n",
        "tokenizer.fit_on_texts(corpus)\n",
        "\n",
        "#Define the max length. Add 1 for the index 0\n",
        "total_words = len(tokenizer.word_index) + 1"
      ],
      "metadata": {
        "id": "rCwm1prXIVgH"
      },
      "execution_count": null,
      "outputs": []
    },
    {
      "cell_type": "markdown",
      "source": [
        "#Preprocessing the Dataset"
      ],
      "metadata": {
        "id": "78KD17GdIlw7"
      }
    },
    {
      "cell_type": "markdown",
      "source": [
        "We then look at the code to take this corpus and turn it into training data: We **tokenize** it."
      ],
      "metadata": {
        "id": "WKFXxTSMJVjj"
      }
    },
    {
      "cell_type": "code",
      "source": [
        "input_sequences = []\n",
        "\n",
        "for line in corpus:\n",
        "  #converting line of text to tokens\n",
        "  token_list = tokenizer.texts_to_sequences([line])[0]\n",
        "\n",
        "  #creates the ngram sequences\n",
        "  for i in range(1, len(token_list)):\n",
        "    n_gram_sequence = token_list[:i+1]\n",
        "    input_sequences.append(n_gram_sequence)\n",
        "\n",
        "  #get the length of the longest line\n",
        "  max_sequence_len = max([len(x) for x in input_sequences])"
      ],
      "metadata": {
        "id": "8yACq2ptIm6H"
      },
      "execution_count": null,
      "outputs": []
    },
    {
      "cell_type": "markdown",
      "source": [
        "The next step: Padding"
      ],
      "metadata": {
        "id": "ibLPzrWrJXAi"
      }
    },
    {
      "cell_type": "code",
      "source": [
        "intput_sequences = np.array(pad_sequences, maxlen=max_sequence_len, padding='pre')"
      ],
      "metadata": {
        "id": "cl90MznxJdmn"
      },
      "execution_count": null,
      "outputs": []
    },
    {
      "cell_type": "markdown",
      "source": [
        "Now that we have our sequences, we turn them into x’s and y’s, our input values and their labels. All we have to do is take all but the last character as x, and use the last character as y on our label.\n",
        "\n",
        "We do this by **splitting our sequences into our x’s and y’s.**"
      ],
      "metadata": {
        "id": "0AB5iCxMJYeJ"
      }
    },
    {
      "cell_type": "code",
      "source": [
        "xs = input_sequences[:,:-1]\n",
        "labels = input_sequences[:,-1]"
      ],
      "metadata": {
        "id": "lpq5YXJeJd99"
      },
      "execution_count": null,
      "outputs": []
    },
    {
      "cell_type": "markdown",
      "source": [
        "We one-hot encode the labels as this is a classification problem."
      ],
      "metadata": {
        "id": "T83jgYNpJbkb"
      }
    },
    {
      "cell_type": "code",
      "source": [
        "ys = tf.keras.utils.to_categorical(labels, num_classes = total_words)"
      ],
      "metadata": {
        "id": "lCvRjbIXJeSi"
      },
      "execution_count": null,
      "outputs": []
    },
    {
      "cell_type": "markdown",
      "source": [
        "#Building the Model"
      ],
      "metadata": {
        "id": "B2KlfKg2Kqdd"
      }
    },
    {
      "cell_type": "code",
      "source": [
        "model = Sequential([\n",
        "    Embedding(total_words, 64, input_length=max_sequence_len -1),\n",
        "    Bidirectional(LSTM(20)),\n",
        "    Dense(total_words, activation ='softmax')\n",
        "])\n",
        "\n",
        "model.compile(\n",
        "    loss = 'categorical_crossentropy',\n",
        "    optimizer = 'adam',\n",
        "    metrics = ['accuracy']\n",
        ")"
      ],
      "metadata": {
        "id": "b3cAO1heKsVD"
      },
      "execution_count": null,
      "outputs": []
    },
    {
      "cell_type": "markdown",
      "source": [
        "#Training the Model"
      ],
      "metadata": {
        "id": "Xgcof_S_LB6W"
      }
    },
    {
      "cell_type": "code",
      "source": [
        "history = model.fit(xs, ys, epochs=500)"
      ],
      "metadata": {
        "id": "SrBWuPNBLCzt"
      },
      "execution_count": null,
      "outputs": []
    },
    {
      "cell_type": "markdown",
      "source": [
        "#Generating Text"
      ],
      "metadata": {
        "id": "t7HwpMGgLG_4"
      }
    },
    {
      "cell_type": "markdown",
      "source": [
        "Process:\n",
        "1. Feed a seed text to initiate the process.\n",
        "2. Model predicts the index of the most probable next word.\n",
        "3. Look up the index in the reverse word index dictionary\n",
        "4. Append the next word to the seed text.\n",
        "5. Feed the result to the model again."
      ],
      "metadata": {
        "id": "qwjBTCn9MCud"
      }
    },
    {
      "cell_type": "code",
      "source": [
        "#Define seed text\n",
        "seed_text = \"Laurence went to Dublin\""
      ],
      "metadata": {
        "id": "zdJfYR4xLOW_"
      },
      "execution_count": null,
      "outputs": []
    },
    {
      "cell_type": "code",
      "source": [
        "#Define total words to predict\n",
        "next_words = 100\n",
        "\n",
        "for _ in range(next_words):\n",
        "  token_list = tokenizer.texts_to_sequence([seed_text])[0]\n",
        "  token_list = pad_sequences([token_list], maxlen = max_sequence_len-1, padding='pre')\n",
        "\n",
        "  #Feed to the model and get probabilities for each index\n",
        "  probabilities = model.predict(token_list)\n",
        "\n",
        "  #Get the index w/ highest probability\n",
        "  predicted = np.argmax(probabilities, axis = -1)[0]\n",
        "\n",
        "  if predicted != 0:\n",
        "    output_word = tokenizer.index_word[predicted] #look up word associated w/ index\n",
        "    seed_sext += \" \" +output_word #combine with seed text\n",
        "\n",
        "  print(seed_text)"
      ],
      "metadata": {
        "id": "1a7OOk_zLRJc"
      },
      "execution_count": null,
      "outputs": []
    },
    {
      "cell_type": "markdown",
      "source": [
        "This produces lots of repeated words, so instead of getting the index with max probability, you can just get the top three indices and choose one at random."
      ],
      "metadata": {
        "id": "aWtPKWBlMMzn"
      }
    },
    {
      "cell_type": "code",
      "source": [
        "seed_text = \"Laurence went to Dublin\"\n",
        "\n",
        "next_words = 100\n",
        "\n",
        "for _ in range(next_words):\n",
        "\n",
        "  token_list = tokenizer.texts_to_sequences([seed_text])[0]\n",
        "\n",
        "\t# Pad the sequence\n",
        "  token_list = pad_sequences([token_list], maxlen=max_sequence_len-1, padding='pre')\n",
        "\n",
        "\t# Feed to the model and get the probabilities for each index\n",
        "  probabilities = model.predict(token_list)\n",
        "\n",
        "  # Pick a random number from [1,2,3]\n",
        "  choice = np.random.choice([1,2,3])\n",
        "\n",
        "  # Sort the probabilities in ascending order\n",
        "  # and get the random choice from the end of the array\n",
        "  predicted = np.argsort(probabilities)[0][-choice]\n",
        "\n",
        "\t# Ignore if index is 0 because that is just the padding.\n",
        "  if predicted != 0:\n",
        "\n",
        "\t\t# Look up the word associated with the index.\n",
        "\t  output_word = tokenizer.index_word[predicted]\n",
        "\n",
        "\t\t# Combine with the seed text\n",
        "\t  seed_text += \" \" + output_word\n",
        "\n",
        "# Print the result\n",
        "print(seed_text)"
      ],
      "metadata": {
        "id": "C6za_alBMQ_V"
      },
      "execution_count": null,
      "outputs": []
    }
  ]
}