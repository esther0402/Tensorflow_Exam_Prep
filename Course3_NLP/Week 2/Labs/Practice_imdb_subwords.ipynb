{
  "cells": [
    {
      "cell_type": "markdown",
      "metadata": {
        "id": "X51g_qU10AQ3"
      },
      "source": [
        "#Subword Tokenization with the IMDB Reviews Dataset"
      ]
    },
    {
      "cell_type": "markdown",
      "metadata": {
        "id": "htPhmL930Leo"
      },
      "source": [
        "##Download the IMDB reviews\n",
        "- plain text\n",
        "- subwords8k"
      ]
    },
    {
      "cell_type": "code",
      "execution_count": 9,
      "metadata": {
        "colab": {
          "base_uri": "https://localhost:8080/"
        },
        "id": "zixbdsfY0Cyn",
        "outputId": "3501776d-361f-4203-b6ed-21747f199070"
      },
      "outputs": [
        {
          "output_type": "stream",
          "name": "stderr",
          "text": [
            "WARNING:absl:TFDS datasets with text encoding are deprecated and will be removed in a future version. Instead, you should use the plain text version and tokenize the text using `tensorflow_text` (See: https://www.tensorflow.org/tutorials/tensorflow_text/intro#tfdata_example)\n"
          ]
        }
      ],
      "source": [
        "import tensorflow_datasets as tfds\n",
        "\n",
        "#Downloading plain_text default config\n",
        "imdb_plaintext, info_plaintext = tfds.load(\"imdb_reviews\", with_info = True, as_supervised = True)\n",
        "\n",
        "#Doanloading subword encoded pretokenized dataset\n",
        "imdb_subwords, info_subwords = tfds.load(\"imdb_reviews/subwords8k\", with_info = True, as_supervised = True)"
      ]
    },
    {
      "cell_type": "markdown",
      "source": [
        "##Subword Text Encoding"
      ],
      "metadata": {
        "id": "65NStJbB1BTd"
      }
    },
    {
      "cell_type": "markdown",
      "source": [
        "We first see the process with plaintext."
      ],
      "metadata": {
        "id": "6U_ZiVPZ1dGC"
      }
    },
    {
      "cell_type": "code",
      "source": [
        "# Get the train set\n",
        "train_data = imdb_plaintext['train']\n",
        "# Initialize sentences list\n",
        "training_sentences = []\n",
        "# Loop over all training examples and save to the list\n",
        "for s,_ in train_data:\n",
        "  training_sentences.append(s.numpy().decode('utf8'))"
      ],
      "metadata": {
        "id": "1Kw_IkF_1cU-"
      },
      "execution_count": 8,
      "outputs": []
    },
    {
      "cell_type": "code",
      "source": [
        "from tensorflow.keras.preprocessing.text import Tokenizer\n",
        "from tensorflow.keras.preprocessing.sequence import pad_sequences\n",
        "\n",
        "vocab_size = 10000\n",
        "oov_tok = '<OOV>'\n",
        "\n",
        "#Initialize the Tokenizer class\n",
        "tokenizer_plaintext = Tokenizer(num_words = 10000, oov_token = oov_tok)\n",
        "\n",
        "# Generate the word index dictionary for the training sentences\n",
        "tokenizer_plaintext.fit_on_texts(training_sentences)\n",
        "\n",
        "# Generate the training sequences\n",
        "sequences = tokenizer_plaintext.texts_to_sequences(training_sentences)"
      ],
      "metadata": {
        "id": "AGG1WoBO1vbb"
      },
      "execution_count": 10,
      "outputs": []
    },
    {
      "cell_type": "markdown",
      "source": [
        "- If we use this, there will be lots of OOV tokens when decoding using the lookup dictionary it created.\n",
        "\n",
        "\n"
      ],
      "metadata": {
        "id": "RVcDoOsB2TTe"
      }
    },
    {
      "cell_type": "code",
      "execution_count": 11,
      "metadata": {
        "id": "W450SJ6yztFe",
        "colab": {
          "base_uri": "https://localhost:8080/"
        },
        "outputId": "0741f131-6800-49b3-b8e4-61643bae628a"
      },
      "outputs": [
        {
          "output_type": "stream",
          "name": "stdout",
          "text": [
            "Tokenized string is [[1, 37, 1, 6, 1]]\n",
            "The original string is ['<OOV> from <OOV> to <OOV>']\n"
          ]
        }
      ],
      "source": [
        "sample_string = 'Tensorflow, from basics to mastery'\n",
        "\n",
        "tokenized_string = tokenizer_plaintext.texts_to_sequences([sample_string])\n",
        "original_string = tokenizer_plaintext.sequences_to_texts(tokenized_string)\n",
        "\n",
        "print('Tokenized string is {}'.format(tokenized_string))\n",
        "print('The original string is {}'.format(original_string))"
      ]
    },
    {
      "cell_type": "markdown",
      "source": [
        "Output:\n",
        "\n",
        "``Tokenized string is [[1, 37, 1, 6, 1]]``\n",
        "\n",
        "``The original string: ['<OOV> from <OOV> to <OOV>']``"
      ],
      "metadata": {
        "id": "oMgnBChP3dhK"
      }
    },
    {
      "cell_type": "markdown",
      "source": [
        "- Increasing the `vocab_size` will just bloat the model."
      ],
      "metadata": {
        "id": "VROTY94P3O31"
      }
    },
    {
      "cell_type": "markdown",
      "source": [
        "**Subword text encoding** gets around this problem by using parts of the word to compose whole words. We can see the process of using subword text encoding by starting with the `encoder` object."
      ],
      "metadata": {
        "id": "WL448qs01QqL"
      }
    },
    {
      "cell_type": "code",
      "execution_count": 12,
      "metadata": {
        "id": "8dRfoz22z_M4"
      },
      "outputs": [],
      "source": [
        "tokenizer_subwords = info_subwords.features['text'].encoder"
      ]
    },
    {
      "cell_type": "code",
      "source": [
        "tokenized_string = tokenizer_subwords.encode(sample_string)\n",
        "original_string = tokenizer_subwords.decode(tokenized_string)\n",
        "\n",
        "print ('Tokenized string is {}'.format(tokenized_string))\n",
        "print ('The original string: {}'.format(original_string))"
      ],
      "metadata": {
        "id": "9J2YtbX436sQ",
        "colab": {
          "base_uri": "https://localhost:8080/"
        },
        "outputId": "a9138c35-1d35-4012-a4e2-fa3cafed3252"
      },
      "execution_count": 13,
      "outputs": [
        {
          "output_type": "stream",
          "name": "stdout",
          "text": [
            "Tokenized string is [6307, 2327, 2934, 2, 48, 4249, 4429, 7, 2652, 8050]\n",
            "The original string: Tensorflow, from basics to mastery\n"
          ]
        }
      ]
    },
    {
      "cell_type": "markdown",
      "source": [
        "Output:\n",
        "\n",
        "``Tokenized string is [6307, 2327, 4043, 2120, 2, 48, 4249, 4429, 7, 2652, 8050]``\n",
        "\n",
        "``The original string: TensorFlow, from basics to mastery``"
      ],
      "metadata": {
        "id": "Zf4gmZup4GFD"
      }
    },
    {
      "cell_type": "markdown",
      "source": [
        "As you may notice, the sentence is correctly decoded. The downside is the token sequence is much longer. Instead of only 5 when using word-encoding, you ended up with 11 tokens instead. The mapping for this sentence is shown below:"
      ],
      "metadata": {
        "id": "wE_F0Zez4OmE"
      }
    },
    {
      "cell_type": "code",
      "source": [
        "# Show token to subword mapping:\n",
        "for ts in tokenized_string:\n",
        "  print ('{} ----> {}'.format(ts, tokenizer_subwords.decode([ts])))"
      ],
      "metadata": {
        "id": "vGEUl4_N4HDG",
        "colab": {
          "base_uri": "https://localhost:8080/"
        },
        "outputId": "90380c6d-1c3f-4be0-fb8d-eb1d410fc41d"
      },
      "execution_count": 14,
      "outputs": [
        {
          "output_type": "stream",
          "name": "stdout",
          "text": [
            "6307 ----> Ten\n",
            "2327 ----> sor\n",
            "2934 ----> flow\n",
            "2 ----> , \n",
            "48 ----> from \n",
            "4249 ----> basi\n",
            "4429 ----> cs \n",
            "7 ----> to \n",
            "2652 ----> master\n",
            "8050 ----> y\n"
          ]
        }
      ]
    },
    {
      "cell_type": "markdown",
      "source": [
        "##Training the model"
      ],
      "metadata": {
        "id": "B5vcu-qi4TKK"
      }
    },
    {
      "cell_type": "markdown",
      "source": [
        "You will now train your model using this pre-tokenized dataset. Since these are already saved as sequences, you can jump straight to making uniform sized arrays for the train and test sets. These are also saved as `tf.data.Dataset` type so you can use the padded_batch() method to create batches and pad the arrays into a uniform size for training."
      ],
      "metadata": {
        "id": "y_lZnGum4868"
      }
    },
    {
      "cell_type": "code",
      "source": [
        "BUFFER_SIZE = 1000\n",
        "BATCH_SIZE = 64\n",
        "\n",
        "# Get the train and test splits\n",
        "train_data, test_data = imdb_subwords['train'], imdb_subwords['test'],\n",
        "\n",
        "#Shuffle the training data\n",
        "train_dataset = train_data.shuffle(BUFFER_SIZE)\n",
        "\n",
        "#Batch and pad the datasets to the maximum length of the sequences\n",
        "train_dataset = train_dataset.padded_batch(BATCH_SIZE)\n",
        "test_dataset = train_data.padded_batch(BATCH_SIZE)"
      ],
      "metadata": {
        "id": "ydwsst784WLb"
      },
      "execution_count": 15,
      "outputs": []
    },
    {
      "cell_type": "markdown",
      "source": [
        "We then build the model."
      ],
      "metadata": {
        "id": "WMZc4VGq5Jvg"
      }
    },
    {
      "cell_type": "code",
      "source": [
        "import tensorflow as tf\n",
        "\n",
        "# Define dimensionality of the embedding\n",
        "embedding_dim = 64\n",
        "\n",
        "# Build the model\n",
        "model = tf.keras.Sequential([\n",
        "    tf.keras.layers.Embedding(tokenizer_subwords.vocab_size, embedding_dim),\n",
        "    tf.keras.layers.GlobalAveragePooling1D(),\n",
        "    tf.keras.layers.Dense(6, activation = 'relu'),\n",
        "    tf.keras.layers.Dense(1, activation = 'sigmoid')\n",
        "])\n",
        "\n",
        "# Print the model summary\n",
        "model.summary()"
      ],
      "metadata": {
        "id": "BjS2utE95K5u",
        "colab": {
          "base_uri": "https://localhost:8080/"
        },
        "outputId": "5ac460e3-a07a-4e0a-88b6-9e16ad506345"
      },
      "execution_count": 16,
      "outputs": [
        {
          "output_type": "stream",
          "name": "stdout",
          "text": [
            "Model: \"sequential\"\n",
            "_________________________________________________________________\n",
            " Layer (type)                Output Shape              Param #   \n",
            "=================================================================\n",
            " embedding (Embedding)       (None, None, 64)          523840    \n",
            "                                                                 \n",
            " global_average_pooling1d (G  (None, 64)               0         \n",
            " lobalAveragePooling1D)                                          \n",
            "                                                                 \n",
            " dense (Dense)               (None, 6)                 390       \n",
            "                                                                 \n",
            " dense_1 (Dense)             (None, 1)                 7         \n",
            "                                                                 \n",
            "=================================================================\n",
            "Total params: 524,237\n",
            "Trainable params: 524,237\n",
            "Non-trainable params: 0\n",
            "_________________________________________________________________\n"
          ]
        }
      ]
    },
    {
      "cell_type": "code",
      "source": [
        "num_epochs = 10\n",
        "\n",
        "# Set the training parameters\n",
        "model.compile(loss='binary_crossentropy',optimizer='adam',metrics=['accuracy'])\n",
        "\n",
        "# Start training\n",
        "history = model.fit(train_dataset, epochs=num_epochs, validation_data=test_dataset)"
      ],
      "metadata": {
        "id": "-9aVMLVN5b_h",
        "colab": {
          "base_uri": "https://localhost:8080/"
        },
        "outputId": "1b087a92-483d-4b4a-845b-5b88c5b20f45"
      },
      "execution_count": 17,
      "outputs": [
        {
          "output_type": "stream",
          "name": "stdout",
          "text": [
            "Epoch 1/10\n",
            "391/391 [==============================] - 10s 23ms/step - loss: 0.6777 - accuracy: 0.6270 - val_loss: 0.6368 - val_accuracy: 0.7738\n",
            "Epoch 2/10\n",
            "391/391 [==============================] - 8s 20ms/step - loss: 0.5566 - accuracy: 0.7862 - val_loss: 0.4693 - val_accuracy: 0.8400\n",
            "Epoch 3/10\n",
            "391/391 [==============================] - 7s 19ms/step - loss: 0.4133 - accuracy: 0.8560 - val_loss: 0.3582 - val_accuracy: 0.8814\n",
            "Epoch 4/10\n",
            "391/391 [==============================] - 7s 19ms/step - loss: 0.3337 - accuracy: 0.8827 - val_loss: 0.2983 - val_accuracy: 0.8982\n",
            "Epoch 5/10\n",
            "391/391 [==============================] - 8s 20ms/step - loss: 0.2847 - accuracy: 0.8991 - val_loss: 0.2625 - val_accuracy: 0.9107\n",
            "Epoch 6/10\n",
            "391/391 [==============================] - 9s 22ms/step - loss: 0.2563 - accuracy: 0.9101 - val_loss: 0.2365 - val_accuracy: 0.9183\n",
            "Epoch 7/10\n",
            "391/391 [==============================] - 8s 21ms/step - loss: 0.2348 - accuracy: 0.9150 - val_loss: 0.2169 - val_accuracy: 0.9271\n",
            "Epoch 8/10\n",
            "391/391 [==============================] - 7s 19ms/step - loss: 0.2169 - accuracy: 0.9229 - val_loss: 0.2009 - val_accuracy: 0.9322\n",
            "Epoch 9/10\n",
            "391/391 [==============================] - 7s 19ms/step - loss: 0.2019 - accuracy: 0.9292 - val_loss: 0.1873 - val_accuracy: 0.9374\n",
            "Epoch 10/10\n",
            "391/391 [==============================] - 8s 21ms/step - loss: 0.1907 - accuracy: 0.9323 - val_loss: 0.1753 - val_accuracy: 0.9415\n"
          ]
        }
      ]
    },
    {
      "cell_type": "markdown",
      "source": [
        "##Visualizing the results"
      ],
      "metadata": {
        "id": "G1L_zkqr5dm_"
      }
    },
    {
      "cell_type": "code",
      "source": [
        "import matplotlib.pyplot as plt\n",
        "\n",
        "#plot utility\n",
        "def plot_graphs(history, string):\n",
        "  plt.plot(history.history[string])\n",
        "  plt.plot(history.history['val_'+string])\n",
        "  plt.xlabel(\"Epochs\")\n",
        "  plt.ylabel(string)\n",
        "  plt.legend([string, 'val_'+string])\n",
        "  plt.show()\n",
        "\n",
        "#plot the accuracy and results\n",
        "plot_graphs(history, \"accuracy\")\n",
        "plot_graphs(history, \"loss\")"
      ],
      "metadata": {
        "id": "DaxFVdrS5etJ",
        "colab": {
          "base_uri": "https://localhost:8080/",
          "height": 885
        },
        "outputId": "4d7696f1-f38d-43fc-bbac-20b114a9ec04"
      },
      "execution_count": 18,
      "outputs": [
        {
          "output_type": "display_data",
          "data": {
            "text/plain": [
              "<Figure size 640x480 with 1 Axes>"
            ],
            "image/png": "[encoded data removed]"
          },
          "metadata": {}
        },
        {
          "output_type": "display_data",
          "data": {
            "text/plain": [
              "<Figure size 640x480 with 1 Axes>"
            ],
            "image/png": "[encoded data removed]"
          },
          "metadata": {}
        }
      ]
    }
  ],
  "metadata": {
    "colab": {
      "provenance": []
    },
    "kernelspec": {
      "display_name": "Python 3",
      "name": "python3"
    },
    "language_info": {
      "name": "python"
    }
  },
  "nbformat": 4,
  "nbformat_minor": 0
}